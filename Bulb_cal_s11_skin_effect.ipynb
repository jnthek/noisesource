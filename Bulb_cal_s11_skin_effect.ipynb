{
 "cells": [
  {
   "cell_type": "code",
   "execution_count": 1,
   "metadata": {},
   "outputs": [],
   "source": [
    "import numpy as np\n",
    "from scipy import interpolate\n",
    "import matplotlib.pyplot as plt"
   ]
  },
  {
   "cell_type": "code",
   "execution_count": 2,
   "metadata": {},
   "outputs": [],
   "source": [
    "freq = np.loadtxt(\"Calibrator_S11_off.s1p\", usecols=0)/1e6\n",
    "Gamma_off = np.loadtxt(\"Calibrator_S11_off.s1p\", usecols=1)+np.loadtxt(\"Calibrator_S11_off.s1p\", usecols=2)*1j\n",
    "Gamma_on = np.loadtxt(\"Calibrator_S11_on.s1p\", usecols=1)+np.loadtxt(\"Calibrator_S11_on.s1p\", usecols=2)*1j\n",
    "\n",
    "SWR_ON = (1+np.abs(Gamma_on))/(1-np.abs(Gamma_on))\n",
    "ref_eff = (1-np.abs(Gamma_on)**2)"
   ]
  },
  {
   "cell_type": "code",
   "execution_count": null,
   "metadata": {},
   "outputs": [],
   "source": []
  }
 ],
 "metadata": {
  "kernelspec": {
   "display_name": "Python 3",
   "language": "python",
   "name": "python3"
  },
  "language_info": {
   "codemirror_mode": {
    "name": "ipython",
    "version": 3
   },
   "file_extension": ".py",
   "mimetype": "text/x-python",
   "name": "python",
   "nbconvert_exporter": "python",
   "pygments_lexer": "ipython3",
   "version": "3.11.0"
  }
 },
 "nbformat": 4,
 "nbformat_minor": 2
}
